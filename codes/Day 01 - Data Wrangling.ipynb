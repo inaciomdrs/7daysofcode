{
 "cells": [
  {
   "cell_type": "markdown",
   "id": "abdfbc4d-55ab-4c4c-95b0-79e27c306bcf",
   "metadata": {},
   "source": [
    "# Day 01 - Data Wrangling"
   ]
  },
  {
   "cell_type": "markdown",
   "id": "9a9fba41-3880-4d5e-9db9-e528ffed0a9e",
   "metadata": {},
   "source": [
    "**Author**: Inácio Medeiros\n",
    "\n",
    "**Date**: 2023-08-10\n",
    "\n",
    "**Purpose**: Make first contact on CEAPS dataset and perform data wrangling"
   ]
  },
  {
   "cell_type": "markdown",
   "id": "f6c73c6c-942e-4524-b130-06e89ef155eb",
   "metadata": {},
   "source": [
    "## Libraries and Dependencies"
   ]
  },
  {
   "cell_type": "code",
   "execution_count": 1,
   "id": "b37d8b96-2264-47d6-9010-a4b2097a9a5a",
   "metadata": {},
   "outputs": [],
   "source": [
    "import numpy as np\n",
    "import pandas as pd\n",
    "import matplotlib.pyplot as plt\n",
    "import seaborn as sns"
   ]
  },
  {
   "cell_type": "markdown",
   "id": "ab72777b-4917-46e5-a01e-f681c611cae4",
   "metadata": {
    "jp-MarkdownHeadingCollapsed": true,
    "tags": []
   },
   "source": [
    "## Data Loading"
   ]
  },
  {
   "cell_type": "code",
   "execution_count": 2,
   "id": "ddddd38c-597f-43db-bc97-4888ecf34967",
   "metadata": {},
   "outputs": [],
   "source": [
    "df = pd.read_csv('../data/preprocessed/despesa_ceaps_2015.utf8.csv', sep=';')"
   ]
  },
  {
   "cell_type": "markdown",
   "id": "b8b654cf-24b9-4cf8-873b-7aef2890f401",
   "metadata": {
    "jp-MarkdownHeadingCollapsed": true,
    "tags": []
   },
   "source": [
    "## Verifying types"
   ]
  },
  {
   "cell_type": "code",
   "execution_count": 3,
   "id": "11a42e01-0ef6-4f6a-b189-49797891a7bf",
   "metadata": {},
   "outputs": [
    {
     "data": {
      "text/plain": [
       "ANO                   int64\n",
       "MES                   int64\n",
       "SENADOR              object\n",
       "TIPO_DESPESA         object\n",
       "CNPJ_CPF             object\n",
       "FORNECEDOR           object\n",
       "DOCUMENTO            object\n",
       "DATA                 object\n",
       "DETALHAMENTO         object\n",
       "VALOR_REEMBOLSADO    object\n",
       "COD_DOCUMENTO         int64\n",
       "dtype: object"
      ]
     },
     "execution_count": 3,
     "metadata": {},
     "output_type": "execute_result"
    }
   ],
   "source": [
    "df.dtypes"
   ]
  },
  {
   "cell_type": "markdown",
   "id": "402aea0b-bb02-4c7f-97f6-0044ce8994ad",
   "metadata": {},
   "source": [
    "Based on above list, let's list what must be done:\n",
    "\n",
    "- Separate CNPJ from CPF\n",
    "- Convert \"DATA\" do datetime type\n",
    "- Evaluate what \"DOCUMENTO\" means\n",
    "- Evaluate what \"DETALHAMENTO\" means\n",
    "- Convert \"VALOR_REEMBOLSADO\" to float\n",
    "- Evaluate what \"COD_DOCUMENTO\" means"
   ]
  },
  {
   "cell_type": "markdown",
   "id": "f4075383-7f7a-4afc-8d93-f66addf9ddaa",
   "metadata": {
    "tags": []
   },
   "source": [
    "### Separating CNPJ from CPF"
   ]
  },
  {
   "cell_type": "code",
   "execution_count": 4,
   "id": "e7934f0b-3273-4b64-b8bc-e9939f3b3bdb",
   "metadata": {},
   "outputs": [
    {
     "data": {
      "text/plain": [
       "0    05.914.650/0001-66\n",
       "1    05.914.650/0001-66\n",
       "2        004.948.028-63\n",
       "3    05.423.963/0001-11\n",
       "4    07.170.542/0001-51\n",
       "Name: CNPJ_CPF, dtype: object"
      ]
     },
     "execution_count": 4,
     "metadata": {},
     "output_type": "execute_result"
    }
   ],
   "source": [
    "df['CNPJ_CPF'].head()"
   ]
  },
  {
   "cell_type": "markdown",
   "id": "fca27dce-9881-47e6-a14d-02baf59037d8",
   "metadata": {},
   "source": [
    "Ok, this shows that actually this field displays either a CNPJ either a CPF. In this sense, we will create a new field called \"TIPO_PESSOA\" to discern between companies (Pessoa Jurídica) and people (Pessoa Física). The first thing to do is to assert that the strings of these columns has either 14 chars (for CPF) either 18 chars (for CNPJ)"
   ]
  },
  {
   "cell_type": "code",
   "execution_count": 5,
   "id": "cde12471-00ef-430a-a526-23453da09dc0",
   "metadata": {},
   "outputs": [
    {
     "data": {
      "text/plain": [
       "{14, 18}"
      ]
     },
     "execution_count": 5,
     "metadata": {},
     "output_type": "execute_result"
    }
   ],
   "source": [
    "set(df['CNPJ_CPF'].map(lambda v: len(v)))"
   ]
  },
  {
   "cell_type": "markdown",
   "id": "8fd223ea-5cde-4243-a52d-ebbfcf04a1cc",
   "metadata": {},
   "source": [
    "In fact they have. Thus, we can use this information for creating our new column:"
   ]
  },
  {
   "cell_type": "code",
   "execution_count": 6,
   "id": "0942140d-4b1b-49a9-ad4d-2da4ceac0e0a",
   "metadata": {},
   "outputs": [],
   "source": [
    "df['TIPO_PESSOA'] = df['CNPJ_CPF'].map(lambda v: 'PESSOA_FISICA' if len(v) == 14 else 'PESSOA_JURIDICA')"
   ]
  },
  {
   "cell_type": "markdown",
   "id": "f4c98f34-17e9-492c-bbfd-1370c100deeb",
   "metadata": {
    "tags": []
   },
   "source": [
    "### Convert \"DATA\" do datetime type"
   ]
  },
  {
   "cell_type": "markdown",
   "id": "f507b542-c54f-47ba-a29a-2f53f342a0ef",
   "metadata": {},
   "source": [
    "In order to make this run properly, i had to do many manual fixes in the dataset reagrding dates. I believe that for next datasets I will write a function to \"remove\" or handle more automatically these issues."
   ]
  },
  {
   "cell_type": "code",
   "execution_count": 19,
   "id": "e6dda1a6-0424-4288-9b62-29db0724e421",
   "metadata": {},
   "outputs": [],
   "source": [
    "df['DATA'] = pd.to_datetime(df['DATA'], dayfirst=True)\n",
    "df['DATA_DIA'] = df['DATA'].map(lambda v: v.day)\n",
    "df['DATA_MES'] = df['DATA'].map(lambda v: v.month)\n",
    "df['DATA_ANO'] = df['DATA'].map(lambda v: v.year)"
   ]
  },
  {
   "cell_type": "markdown",
   "id": "f6eed3ec-eddd-4a0a-994e-8c0cf75af570",
   "metadata": {
    "tags": []
   },
   "source": [
    "### Evaluate what \"DOCUMENTO\" means"
   ]
  },
  {
   "cell_type": "markdown",
   "id": "b8b515b6-7647-4618-be20-acaabd08723a",
   "metadata": {},
   "source": [
    "This looks like a \"code\" for the document"
   ]
  },
  {
   "cell_type": "code",
   "execution_count": 22,
   "id": "0a1735bb-edfd-4ad6-a058-1c5e73ca160e",
   "metadata": {},
   "outputs": [
    {
     "data": {
      "text/plain": [
       "0           647777\n",
       "1        000647776\n",
       "2           001/15\n",
       "3        556241490\n",
       "4            14654\n",
       "           ...    \n",
       "26051       7NJ24P\n",
       "26052       FYNY6G\n",
       "26053       IGW58E\n",
       "26054       U7YJHV\n",
       "26055       7NJ8UP\n",
       "Name: DOCUMENTO, Length: 26056, dtype: object"
      ]
     },
     "execution_count": 22,
     "metadata": {},
     "output_type": "execute_result"
    }
   ],
   "source": [
    "df['DOCUMENTO']"
   ]
  },
  {
   "cell_type": "markdown",
   "id": "f80dfc27-f495-4903-b8b9-0e8f71d6f693",
   "metadata": {
    "tags": []
   },
   "source": [
    "### Evaluate what \"DETALHAMENTO\" means"
   ]
  },
  {
   "cell_type": "markdown",
   "id": "b8146ef5-8e18-4f90-a652-fb92665aeaf2",
   "metadata": {},
   "source": [
    "These are descriptions of the expenses. We could create some categories for it"
   ]
  },
  {
   "cell_type": "code",
   "execution_count": 29,
   "id": "c05fdb5a-6668-464c-979d-38977074e026",
   "metadata": {},
   "outputs": [
    {
     "data": {
      "text/plain": [
       "0                                                      NaN\n",
       "1        Despesa com pagamento de energia elétrica para...\n",
       "2        Despesa com pagamento de aluguel de imóvel par...\n",
       "3        Despesa com pagamento de telefonia para uso do...\n",
       "4        Despesa com material de consumo para uso do es...\n",
       "                               ...                        \n",
       "26051    Companhia Aérea: AVIANCA, Localizador: 7NJ24P....\n",
       "26052    Companhia Aérea: AZUL, Localizador: FYNY6G. Pa...\n",
       "26053    Companhia Aérea: AZUL, Localizador: IGW58E. Pa...\n",
       "26054    Companhia Aérea: AZUL, Localizador: U7YJHV. Pa...\n",
       "26055    Companhia Aérea: TAM, Localizador: 7NJ8UP. Pas...\n",
       "Name: DETALHAMENTO, Length: 26056, dtype: object"
      ]
     },
     "execution_count": 29,
     "metadata": {},
     "output_type": "execute_result"
    }
   ],
   "source": [
    "df['DETALHAMENTO']"
   ]
  },
  {
   "cell_type": "markdown",
   "id": "b5da0376-6594-46f2-ae8c-81fc620aba75",
   "metadata": {
    "tags": []
   },
   "source": [
    "### Convert \"VALOR_REEMBOLSADO\" to float"
   ]
  },
  {
   "cell_type": "markdown",
   "id": "2f7ae8c2-a5eb-4c46-9a19-eb2739c8ef87",
   "metadata": {},
   "source": [
    "As we can see below, we need to replace these commas by dots. Here we go"
   ]
  },
  {
   "cell_type": "code",
   "execution_count": 30,
   "id": "e478b551-95fd-4296-bbe5-3a7eabdff8b2",
   "metadata": {},
   "outputs": [
    {
     "data": {
      "text/plain": [
       "0          52,34\n",
       "1         168,17\n",
       "2           5000\n",
       "3         416,95\n",
       "4          108,5\n",
       "          ...   \n",
       "26051     880,83\n",
       "26052     717,73\n",
       "26053     423,35\n",
       "26054    1540,98\n",
       "26055     710,54\n",
       "Name: VALOR_REEMBOLSADO, Length: 26056, dtype: object"
      ]
     },
     "execution_count": 30,
     "metadata": {},
     "output_type": "execute_result"
    }
   ],
   "source": [
    "df['VALOR_REEMBOLSADO']"
   ]
  },
  {
   "cell_type": "code",
   "execution_count": 34,
   "id": "18ee20c4-d6be-4d24-b1ab-a559a7c62020",
   "metadata": {},
   "outputs": [],
   "source": [
    "df['VALOR_REEMBOLSADO'] = df['VALOR_REEMBOLSADO'].map(lambda v: v.replace(',', '.'))\n",
    "df['VALOR_REEMBOLSADO'] = df['VALOR_REEMBOLSADO'].map(float)"
   ]
  },
  {
   "cell_type": "markdown",
   "id": "95b75b18-79b8-49bd-a014-ba115aafda64",
   "metadata": {
    "tags": []
   },
   "source": [
    "### Evaluate what \"COD_DOCUMENTO\" means"
   ]
  },
  {
   "cell_type": "markdown",
   "id": "daeb324a-4c0c-489e-8b8e-ff197657cdc2",
   "metadata": {},
   "source": [
    "This field is really a code for something, differing from \"DOCUMENTO\""
   ]
  },
  {
   "cell_type": "code",
   "execution_count": 38,
   "id": "71fb3e0b-79e0-4768-88b1-ee0d4894679d",
   "metadata": {},
   "outputs": [
    {
     "data": {
      "text/plain": [
       "0        2000857\n",
       "1        2001140\n",
       "2        2001144\n",
       "3        2001141\n",
       "4        2001139\n",
       "          ...   \n",
       "26051    2029890\n",
       "26052    2029891\n",
       "26053    2032422\n",
       "26054    2032243\n",
       "26055    2029924\n",
       "Name: COD_DOCUMENTO, Length: 26056, dtype: int64"
      ]
     },
     "execution_count": 38,
     "metadata": {},
     "output_type": "execute_result"
    }
   ],
   "source": [
    "df['COD_DOCUMENTO']"
   ]
  },
  {
   "cell_type": "markdown",
   "id": "9c1440f7-3b34-4982-9300-844109cee2fb",
   "metadata": {},
   "source": [
    "### Summary"
   ]
  },
  {
   "cell_type": "markdown",
   "id": "864e5649-36c3-4487-aa85-260e4e0d9163",
   "metadata": {},
   "source": [
    "Let's see how are the dtypes now"
   ]
  },
  {
   "cell_type": "code",
   "execution_count": 39,
   "id": "d0f7e00a-6f4c-4bb7-bfa0-576106697412",
   "metadata": {},
   "outputs": [
    {
     "data": {
      "text/plain": [
       "ANO                           int64\n",
       "MES                           int64\n",
       "SENADOR                      object\n",
       "TIPO_DESPESA                 object\n",
       "CNPJ_CPF                     object\n",
       "FORNECEDOR                   object\n",
       "DOCUMENTO                    object\n",
       "DATA                 datetime64[ns]\n",
       "DETALHAMENTO                 object\n",
       "VALOR_REEMBOLSADO           float64\n",
       "COD_DOCUMENTO                 int64\n",
       "TIPO_PESSOA                  object\n",
       "DATA_DIA                      int64\n",
       "DATA_MES                      int64\n",
       "DATA_ANO                      int64\n",
       "dtype: object"
      ]
     },
     "execution_count": 39,
     "metadata": {},
     "output_type": "execute_result"
    }
   ],
   "source": [
    "df.dtypes"
   ]
  },
  {
   "cell_type": "markdown",
   "id": "6920ad62-5af8-4b73-852b-4853115c0f36",
   "metadata": {
    "jp-MarkdownHeadingCollapsed": true,
    "tags": []
   },
   "source": [
    "## Analyzing NULL values"
   ]
  },
  {
   "cell_type": "code",
   "execution_count": 52,
   "id": "2492f1e1-0ac0-4e27-86ec-bc4be761dbd2",
   "metadata": {},
   "outputs": [
    {
     "data": {
      "text/plain": [
       "False"
      ]
     },
     "execution_count": 52,
     "metadata": {},
     "output_type": "execute_result"
    }
   ],
   "source": [
    "(df['DOCUMENTO'].isna() & df['DETALHAMENTO'].isna()).sum() == df['DOCUMENTO'].isna().sum()"
   ]
  },
  {
   "cell_type": "code",
   "execution_count": 44,
   "id": "927fd38c-a1f4-4e44-b999-b9417472e5b4",
   "metadata": {},
   "outputs": [
    {
     "data": {
      "text/plain": [
       "ANO                     0\n",
       "MES                     0\n",
       "SENADOR                 0\n",
       "TIPO_DESPESA            0\n",
       "CNPJ_CPF                0\n",
       "FORNECEDOR              0\n",
       "DOCUMENTO            4206\n",
       "DATA                    0\n",
       "DETALHAMENTO         4053\n",
       "VALOR_REEMBOLSADO       0\n",
       "COD_DOCUMENTO           0\n",
       "TIPO_PESSOA             0\n",
       "DATA_DIA                0\n",
       "DATA_MES                0\n",
       "DATA_ANO                0\n",
       "dtype: int64"
      ]
     },
     "execution_count": 44,
     "metadata": {},
     "output_type": "execute_result"
    }
   ],
   "source": [
    "df.isna().sum(axis=0)"
   ]
  },
  {
   "cell_type": "markdown",
   "id": "d29874ec-e214-4216-9411-bc5f934fc868",
   "metadata": {},
   "source": [
    "There's a lot of NULL values for DETALHAMENTO and DOCUMENTO. These totals correspond to which percentage of data?"
   ]
  },
  {
   "cell_type": "code",
   "execution_count": 48,
   "id": "97e28221-27f0-4a3c-a6a1-d51827513e60",
   "metadata": {},
   "outputs": [
    {
     "name": "stdout",
     "output_type": "stream",
     "text": [
      "16% of registers has NULL documents\n",
      "16% of registers has NULL detalhamentos\n"
     ]
    }
   ],
   "source": [
    "total_number_of_registers = df.shape[0]\n",
    "percentage_of_null_documents = df['DOCUMENTO'].isna().sum() / total_number_of_registers\n",
    "percentage_of_null_detalhamento = df['DETALHAMENTO'].isna().sum() / total_number_of_registers\n",
    "print(f'{percentage_of_null_documents*100:.0f}% of registers has NULL documents')\n",
    "print(f'{percentage_of_null_detalhamento*100:.0f}% of registers has NULL detalhamentos')"
   ]
  },
  {
   "cell_type": "markdown",
   "id": "9a279f12-1a4e-4d6e-b926-a91fdcd4c0a3",
   "metadata": {},
   "source": [
    "Shall the intersection of them 100%? Let's see:"
   ]
  },
  {
   "cell_type": "code",
   "execution_count": 52,
   "id": "9ebcdee0-2bd8-45c6-8bf2-af315c8b6cfb",
   "metadata": {},
   "outputs": [
    {
     "data": {
      "text/plain": [
       "False"
      ]
     },
     "execution_count": 52,
     "metadata": {},
     "output_type": "execute_result"
    }
   ],
   "source": [
    "(df['DOCUMENTO'].isna() & df['DETALHAMENTO'].isna()).sum() == df['DOCUMENTO'].isna().sum()"
   ]
  },
  {
   "cell_type": "code",
   "execution_count": 53,
   "id": "9fa2d3b8-3a8e-4ceb-a3dc-bf742af6c81c",
   "metadata": {},
   "outputs": [
    {
     "data": {
      "text/plain": [
       "False"
      ]
     },
     "execution_count": 53,
     "metadata": {},
     "output_type": "execute_result"
    }
   ],
   "source": [
    "(df['DOCUMENTO'].isna() & df['DETALHAMENTO'].isna()).sum() == df['DETALHAMENTO'].isna().sum()"
   ]
  },
  {
   "cell_type": "markdown",
   "id": "c69e92f3-9c12-47f6-935e-9dddbf784156",
   "metadata": {},
   "source": [
    "No, it is not 100%"
   ]
  },
  {
   "cell_type": "code",
   "execution_count": 71,
   "id": "c66dbcda-a0e2-4a22-ac4e-dd9916ff473b",
   "metadata": {},
   "outputs": [
    {
     "data": {
      "text/plain": [
       "TIPO_DESPESA\n",
       "Serviços de Segurança Privada                                                                                                                                                                        5200.00\n",
       "Contratação de consultorias, assessorias, pesquisas, trabalhos técnicos e outros serviços de apoio ao exercício do mandato parlamentar                                                               8978.00\n",
       "Aquisição de material de consumo para uso no escritório político, inclusive aquisição ou locação de software, despesas postais, aquisição de publicações, locação de móveis e de equipamentos.      11391.42\n",
       "Divulgação da atividade parlamentar                                                                                                                                                                 19742.00\n",
       "Locomoção, hospedagem, alimentação, combustíveis e lubrificantes                                                                                                                                    34769.67\n",
       "Aluguel de imóveis para escritório político, compreendendo despesas concernentes a eles.                                                                                                            75894.73\n",
       "Passagens aéreas, aquáticas e terrestres nacionais                                                                                                                                                 139423.98\n",
       "Name: VALOR_REEMBOLSADO, dtype: float64"
      ]
     },
     "execution_count": 71,
     "metadata": {},
     "output_type": "execute_result"
    }
   ],
   "source": [
    "df[df['SENADOR'].str.contains(\"FÁTIMA BEZERRA\")].groupby('TIPO_DESPESA').agg({'VALOR_REEMBOLSADO': 'sum'})['VALOR_REEMBOLSADO'].sort_values()"
   ]
  },
  {
   "cell_type": "code",
   "execution_count": 58,
   "id": "029fad26-ac70-4945-96c8-ec6bbd4cd1e3",
   "metadata": {},
   "outputs": [
    {
     "data": {
      "text/plain": [
       "0           647777\n",
       "1        000647776\n",
       "2           001/15\n",
       "3        556241490\n",
       "4            14654\n",
       "           ...    \n",
       "26051       7NJ24P\n",
       "26052       FYNY6G\n",
       "26053       IGW58E\n",
       "26054       U7YJHV\n",
       "26055       7NJ8UP\n",
       "Name: DOCUMENTO, Length: 26056, dtype: object"
      ]
     },
     "execution_count": 58,
     "metadata": {},
     "output_type": "execute_result"
    }
   ],
   "source": [
    "df['DOCUMENTO']"
   ]
  },
  {
   "cell_type": "markdown",
   "id": "5aa7eb2d-9a80-4de1-86dd-420a96000092",
   "metadata": {},
   "source": [
    "## Saving the work"
   ]
  },
  {
   "cell_type": "code",
   "execution_count": 72,
   "id": "7479e4a9-f2b3-4fee-ba9f-4c2c9c6abb6b",
   "metadata": {},
   "outputs": [],
   "source": [
    "df.to_csv('../data/preprocessed/despesa_ceaps_2015.data_wrangling.csv', index=False)"
   ]
  }
 ],
 "metadata": {
  "kernelspec": {
   "display_name": "7daysofcode",
   "language": "python",
   "name": "7daysofcode"
  },
  "language_info": {
   "codemirror_mode": {
    "name": "ipython",
    "version": 3
   },
   "file_extension": ".py",
   "mimetype": "text/x-python",
   "name": "python",
   "nbconvert_exporter": "python",
   "pygments_lexer": "ipython3",
   "version": "3.11.4"
  }
 },
 "nbformat": 4,
 "nbformat_minor": 5
}
